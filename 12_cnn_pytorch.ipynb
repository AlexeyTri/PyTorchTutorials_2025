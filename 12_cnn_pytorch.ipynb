{
  "nbformat": 4,
  "nbformat_minor": 0,
  "metadata": {
    "colab": {
      "provenance": [],
      "gpuType": "T4",
      "mount_file_id": "1k3-qlLt0HE5kHrmbue6aQ03zRcCeMTtk",
      "authorship_tag": "ABX9TyMH5ylocE8yYebgUuRrQL2b",
      "include_colab_link": true
    },
    "kernelspec": {
      "name": "python3",
      "display_name": "Python 3"
    },
    "language_info": {
      "name": "python"
    }
  },
  "cells": [
    {
      "cell_type": "markdown",
      "metadata": {
        "id": "view-in-github",
        "colab_type": "text"
      },
      "source": [
        "<a href=\"https://colab.research.google.com/github/AlexeyTri/PyTorchTutorials/blob/main/12_cnn_pytorch.ipynb\" target=\"_parent\"><img src=\"https://colab.research.google.com/assets/colab-badge.svg\" alt=\"Open In Colab\"/></a>"
      ]
    },
    {
      "cell_type": "code",
      "source": [
        "import numpy as np\n",
        "import torch\n",
        "from sklearn.datasets import load_sample_images\n",
        "import torchvision\n",
        "import torchvision.transforms.v2 as T\n",
        "import torch.nn as nn\n",
        "import torch.nn.functional as F"
      ],
      "metadata": {
        "id": "_8f61rqfoJbU"
      },
      "execution_count": 1,
      "outputs": []
    },
    {
      "cell_type": "code",
      "source": [
        "if torch.cuda.is_available():\n",
        "    device = 'cuda'\n",
        "elif torch.backends.mps.is_available():\n",
        "    device = 'mps'\n",
        "else:\n",
        "    device = 'cpu'"
      ],
      "metadata": {
        "id": "xbxDa_vjfFv4"
      },
      "execution_count": 2,
      "outputs": []
    },
    {
      "cell_type": "code",
      "source": [
        "torch.manual_seed(42)"
      ],
      "metadata": {
        "colab": {
          "base_uri": "https://localhost:8080/"
        },
        "id": "PYLt3ty9SZk7",
        "outputId": "32a5e69c-cbe1-4677-d49a-606add485fdb"
      },
      "execution_count": 3,
      "outputs": [
        {
          "output_type": "execute_result",
          "data": {
            "text/plain": [
              "<torch._C.Generator at 0x7c697c4a8a70>"
            ]
          },
          "metadata": {},
          "execution_count": 3
        }
      ]
    },
    {
      "cell_type": "markdown",
      "source": [
        "# Сверточные слои"
      ],
      "metadata": {
        "id": "xLj-CI9ea5lB"
      }
    },
    {
      "cell_type": "code",
      "source": [
        "sample_image = np.stack(load_sample_images()[\"images\"])\n",
        "sample_image = torch.tensor(sample_image, dtype=torch.float32) / 255"
      ],
      "metadata": {
        "id": "EWRPqiiToJfk"
      },
      "execution_count": 4,
      "outputs": []
    },
    {
      "cell_type": "code",
      "source": [
        "sample_image.shape"
      ],
      "metadata": {
        "id": "C_sTjwgKoJkC",
        "colab": {
          "base_uri": "https://localhost:8080/"
        },
        "outputId": "26992667-ef36-4b3a-c799-5b4e641721f8"
      },
      "execution_count": 5,
      "outputs": [
        {
          "output_type": "execute_result",
          "data": {
            "text/plain": [
              "torch.Size([2, 427, 640, 3])"
            ]
          },
          "metadata": {},
          "execution_count": 5
        }
      ]
    },
    {
      "cell_type": "code",
      "source": [
        "sample_image_permuted = sample_image.permute(0,3,1,2)\n",
        "sample_image_permuted.shape"
      ],
      "metadata": {
        "id": "7FSUJ0XboJoe",
        "colab": {
          "base_uri": "https://localhost:8080/"
        },
        "outputId": "4fd07efd-a7c2-4155-c5cf-208d6288ccbd"
      },
      "execution_count": 6,
      "outputs": [
        {
          "output_type": "execute_result",
          "data": {
            "text/plain": [
              "torch.Size([2, 3, 427, 640])"
            ]
          },
          "metadata": {},
          "execution_count": 6
        }
      ]
    },
    {
      "cell_type": "code",
      "source": [
        "cropped_images = T.CenterCrop((70, 120))(sample_image_permuted)\n",
        "cropped_images.shape"
      ],
      "metadata": {
        "id": "F5CslcI6oJs7",
        "colab": {
          "base_uri": "https://localhost:8080/"
        },
        "outputId": "d0a55deb-9709-4382-e722-8ff6405595a7"
      },
      "execution_count": 7,
      "outputs": [
        {
          "output_type": "execute_result",
          "data": {
            "text/plain": [
              "torch.Size([2, 3, 70, 120])"
            ]
          },
          "metadata": {},
          "execution_count": 7
        }
      ]
    },
    {
      "cell_type": "code",
      "source": [
        "conv_layer = nn.Conv2d(in_channels=3, out_channels=32, kernel_size=7)\n",
        "fmaps = conv_layer(cropped_images)"
      ],
      "metadata": {
        "id": "OHeT13BJoJxr"
      },
      "execution_count": 8,
      "outputs": []
    },
    {
      "cell_type": "code",
      "source": [
        "fmaps.shape"
      ],
      "metadata": {
        "id": "gqW6ZjJfoJ2r",
        "colab": {
          "base_uri": "https://localhost:8080/"
        },
        "outputId": "fb20bbce-f663-41e1-e3a8-974b98c44631"
      },
      "execution_count": 9,
      "outputs": [
        {
          "output_type": "execute_result",
          "data": {
            "text/plain": [
              "torch.Size([2, 32, 64, 114])"
            ]
          },
          "metadata": {},
          "execution_count": 9
        }
      ]
    },
    {
      "cell_type": "code",
      "source": [
        "conv_layer.weight.shape, conv_layer.bias.shape"
      ],
      "metadata": {
        "id": "pn7UfdrBoJ7L",
        "colab": {
          "base_uri": "https://localhost:8080/"
        },
        "outputId": "f6ca2624-2ef4-4314-c46a-d2d55ca1dfe0"
      },
      "execution_count": 10,
      "outputs": [
        {
          "output_type": "execute_result",
          "data": {
            "text/plain": [
              "(torch.Size([32, 3, 7, 7]), torch.Size([32]))"
            ]
          },
          "metadata": {},
          "execution_count": 10
        }
      ]
    },
    {
      "cell_type": "code",
      "source": [
        "max_pool = nn.MaxPool2d(kernel_size=2)"
      ],
      "metadata": {
        "id": "H-gh3GiEoKGD"
      },
      "execution_count": 11,
      "outputs": []
    },
    {
      "cell_type": "code",
      "source": [
        "class DepthPool(torch.nn.Module):\n",
        "    def __init__(self, kernel_size, stride=None, padding=0):\n",
        "        super().__init__()\n",
        "        self.kernel_size = kernel_size\n",
        "        self.stride = stride if stride is not None else kernel_size\n",
        "        self.padding = padding\n",
        "\n",
        "\n",
        "    def forward(self, inputs):\n",
        "        batch, channels, height, width = inputs.shape\n",
        "        Z = inputs.view(batch, channels, height * width)\n",
        "        Z = Z.permute(0,2,1)\n",
        "        Z = F.max_pool1d(Z, kernel_size=self.kernel_size, stride=self.stride, padding=self.padding)\n",
        "        Z = Z.permute(0, 2, 1)\n",
        "        return Z.view(batch, -1, height, width)"
      ],
      "metadata": {
        "id": "VoetzTWsEfMS"
      },
      "execution_count": 12,
      "outputs": []
    },
    {
      "cell_type": "code",
      "source": [
        "global_avg_pool = nn.AvgPool2d(kernel_size=(70, 120))\n",
        "output = global_avg_pool(cropped_images)"
      ],
      "metadata": {
        "id": "KtDrh30KEfO7"
      },
      "execution_count": 13,
      "outputs": []
    },
    {
      "cell_type": "code",
      "source": [
        "global_avg_pool = nn.AdaptiveAvgPool2d(output_size=1)\n",
        "output = global_avg_pool(cropped_images)"
      ],
      "metadata": {
        "id": "rPYAMs_RajXA"
      },
      "execution_count": 14,
      "outputs": []
    },
    {
      "cell_type": "code",
      "source": [
        "output = cropped_images.mean(dim=(2,3), keepdim=True)"
      ],
      "metadata": {
        "id": "w7Qt287FanM8"
      },
      "execution_count": 15,
      "outputs": []
    },
    {
      "cell_type": "markdown",
      "source": [
        "# Архитектуры CNN"
      ],
      "metadata": {
        "id": "gBoku0Wgazpy"
      }
    },
    {
      "cell_type": "code",
      "source": [
        "from functools import partial\n",
        "\n",
        "DefaultConv2d = partial(nn.Conv2d, kernel_size=3, padding=\"same\")\n",
        "model = nn.Sequential(\n",
        "    DefaultConv2d(in_channels=1, out_channels=64, kernel_size=7), nn.ReLU(),\n",
        "    nn.MaxPool2d(kernel_size=2),\n",
        "    DefaultConv2d(in_channels=64, out_channels=128), nn.ReLU(),\n",
        "    DefaultConv2d(in_channels=128, out_channels=128), nn.ReLU(),\n",
        "    nn.MaxPool2d(kernel_size=2),\n",
        "    DefaultConv2d(in_channels=128, out_channels=256), nn.ReLU(),\n",
        "    DefaultConv2d(in_channels=256, out_channels=256), nn.ReLU(),\n",
        "    nn.MaxPool2d(kernel_size=2),\n",
        "    nn.Flatten(),\n",
        "    nn.Linear(in_features=2304, out_features=128), nn.ReLU(),\n",
        "    nn.Dropout(0.5),\n",
        "    nn.Linear(in_features=128, out_features=64), nn.ReLU(),\n",
        "    nn.Dropout(0.5),\n",
        "    nn.Linear(in_features=64, out_features=10),\n",
        ").to(device)"
      ],
      "metadata": {
        "id": "35PqSCbAbFD9"
      },
      "execution_count": 16,
      "outputs": []
    },
    {
      "cell_type": "code",
      "source": [
        "class SeparableConv2d(nn.Module):\n",
        "    def __init__(self, in_channels, out_channels, kernel_size, stride=1,\n",
        "                 padding=0):\n",
        "        super().__init__()\n",
        "        self.depthwise_conv = nn.Conv2d(\n",
        "            in_channels, in_channels, kernel_size, stride=stride,\n",
        "            padding=padding, groups=in_channels)\n",
        "        self.pointwise_conv = nn.Conv2d(\n",
        "            in_channels, out_channels, kernel_size=1, stride=1, padding=0)\n",
        "\n",
        "    def forward(self, inputs):\n",
        "        return self.pointwise_conv(self.depthwise_conv(inputs))"
      ],
      "metadata": {
        "id": "O_djkF7BbFIW"
      },
      "execution_count": 17,
      "outputs": []
    },
    {
      "cell_type": "markdown",
      "source": [
        "![hmls_1219.png](data:image/png;base64,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)"
      ],
      "metadata": {
        "id": "Ddv6OWPcHCnM"
      }
    },
    {
      "cell_type": "code",
      "source": [],
      "metadata": {
        "id": "5PdgpFV_bFM3"
      },
      "execution_count": null,
      "outputs": []
    },
    {
      "cell_type": "code",
      "source": [],
      "metadata": {
        "id": "mKMLYke0bFQ2"
      },
      "execution_count": null,
      "outputs": []
    },
    {
      "cell_type": "code",
      "source": [],
      "metadata": {
        "id": "yH_qY-TsbFU2"
      },
      "execution_count": null,
      "outputs": []
    },
    {
      "cell_type": "code",
      "source": [],
      "metadata": {
        "id": "fjOfaczVbFZH"
      },
      "execution_count": null,
      "outputs": []
    },
    {
      "cell_type": "code",
      "source": [],
      "metadata": {
        "id": "aZkTpcZ7bFc9"
      },
      "execution_count": null,
      "outputs": []
    },
    {
      "cell_type": "code",
      "source": [],
      "metadata": {
        "id": "7Y1PtN8pbFhf"
      },
      "execution_count": null,
      "outputs": []
    },
    {
      "cell_type": "code",
      "source": [],
      "metadata": {
        "id": "y9IWCU6cbFle"
      },
      "execution_count": null,
      "outputs": []
    },
    {
      "cell_type": "code",
      "source": [],
      "metadata": {
        "id": "8sjUz84abFp3"
      },
      "execution_count": null,
      "outputs": []
    },
    {
      "cell_type": "code",
      "source": [],
      "metadata": {
        "id": "I1j_q0u4bFuX"
      },
      "execution_count": null,
      "outputs": []
    },
    {
      "cell_type": "code",
      "source": [],
      "metadata": {
        "id": "tVSVKyUEbFy5"
      },
      "execution_count": null,
      "outputs": []
    },
    {
      "cell_type": "code",
      "source": [],
      "metadata": {
        "id": "F61AINeAbF3n"
      },
      "execution_count": null,
      "outputs": []
    },
    {
      "cell_type": "code",
      "source": [],
      "metadata": {
        "id": "linXd6W8bF7-"
      },
      "execution_count": null,
      "outputs": []
    },
    {
      "cell_type": "code",
      "source": [],
      "metadata": {
        "id": "emW3PBagbGAf"
      },
      "execution_count": null,
      "outputs": []
    },
    {
      "cell_type": "code",
      "source": [],
      "metadata": {
        "id": "MtsOUw4ebGFJ"
      },
      "execution_count": null,
      "outputs": []
    },
    {
      "cell_type": "code",
      "source": [],
      "metadata": {
        "id": "bOAyJGuhbGJu"
      },
      "execution_count": null,
      "outputs": []
    },
    {
      "cell_type": "code",
      "source": [],
      "metadata": {
        "id": "3Y59yxjmbGNx"
      },
      "execution_count": null,
      "outputs": []
    },
    {
      "cell_type": "code",
      "source": [],
      "metadata": {
        "id": "J6ltsAufbGR_"
      },
      "execution_count": null,
      "outputs": []
    },
    {
      "cell_type": "code",
      "source": [],
      "metadata": {
        "id": "XR7lC4ddbGWO"
      },
      "execution_count": null,
      "outputs": []
    },
    {
      "cell_type": "code",
      "source": [],
      "metadata": {
        "id": "Mvc9b8eybGan"
      },
      "execution_count": null,
      "outputs": []
    },
    {
      "cell_type": "code",
      "source": [],
      "metadata": {
        "id": "KQg243XEbGfX"
      },
      "execution_count": null,
      "outputs": []
    },
    {
      "cell_type": "code",
      "source": [],
      "metadata": {
        "id": "NIeKj3vIbGkg"
      },
      "execution_count": null,
      "outputs": []
    },
    {
      "cell_type": "code",
      "source": [],
      "metadata": {
        "id": "jjemC_QcbGo3"
      },
      "execution_count": null,
      "outputs": []
    },
    {
      "cell_type": "code",
      "source": [],
      "metadata": {
        "id": "fDtcQE07bGt7"
      },
      "execution_count": null,
      "outputs": []
    }
  ]
}